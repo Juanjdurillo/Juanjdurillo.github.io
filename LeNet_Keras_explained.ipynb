{
  "nbformat": 4,
  "nbformat_minor": 0,
  "metadata": {
    "colab": {
      "name": "LeNet_Keras_explained.ipynb",
      "provenance": [],
      "collapsed_sections": [],
      "include_colab_link": true
    },
    "kernelspec": {
      "name": "python3",
      "display_name": "Python 3"
    },
    "accelerator": "GPU"
  },
  "cells": [
    {
      "cell_type": "markdown",
      "metadata": {
        "id": "view-in-github",
        "colab_type": "text"
      },
      "source": [
        "<a href=\"https://colab.research.google.com/github/Juanjdurillo/Juanjdurillo.github.io/blob/master/LeNet_Keras_explained.ipynb\" target=\"_parent\"><img src=\"https://colab.research.google.com/assets/colab-badge.svg\" alt=\"Open In Colab\"/></a>"
      ]
    },
    {
      "cell_type": "markdown",
      "metadata": {
        "id": "T1VwS6eXCCts",
        "colab_type": "text"
      },
      "source": [
        "### Practicing with Convolutional Deep Neural Networks: LeNet"
      ]
    },
    {
      "cell_type": "markdown",
      "metadata": {
        "id": "eoy7vaV3Vvoo",
        "colab_type": "text"
      },
      "source": [
        "In this notebook we are going to construct (in Keras) the LeNet architecture for classifying the images in the mnist data set. These images are 28x28 pixel ones depicting the number from 0 to 9. The LeNet network will be used to learn the number depicted in each image. \n",
        "\n",
        "![LeNet Architecture](https://drive.google.com/uc?export=view&id=1U2-j1W2zW7-SssIAMHRdaaXrQHgmN7ld)\n",
        "\n",
        "\n"
      ]
    },
    {
      "cell_type": "markdown",
      "metadata": {
        "id": "zXPqhKsS0vcT",
        "colab_type": "text"
      },
      "source": [
        "Before going into further details of the architecture and dataset, we are going to import all the libraries we are going to use. As  you will notice, most of them are from the Keras Framework and Tensorflow. "
      ]
    },
    {
      "cell_type": "code",
      "metadata": {
        "id": "O0VM1stoyjFz",
        "colab_type": "code",
        "colab": {
          "base_uri": "https://localhost:8080/",
          "height": 34
        },
        "outputId": "8937bb71-64af-461e-e48d-f8afc11bd446"
      },
      "source": [
        "from keras.models import Sequential\n",
        "from keras.layers import Conv2D, AveragePooling2D, MaxPooling2D,Flatten, Dense\n",
        "from keras.optimizers import SGD\n",
        "from keras.datasets import mnist\n",
        "from keras.utils import np_utils \n",
        "import tensorflow as tf\n",
        "from keras.preprocessing import image\n",
        "\n",
        "import matplotlib.pyplot as plt\n"
      ],
      "execution_count": 1,
      "outputs": [
        {
          "output_type": "stream",
          "text": [
            "Using TensorFlow backend.\n"
          ],
          "name": "stderr"
        }
      ]
    },
    {
      "cell_type": "markdown",
      "metadata": {
        "id": "sRgKOTPtBkIo",
        "colab_type": "text"
      },
      "source": [
        "## Getting and Exploring the Dataset"
      ]
    },
    {
      "cell_type": "markdown",
      "metadata": {
        "id": "ilgDVaVf1Ivy",
        "colab_type": "text"
      },
      "source": [
        "We are loading the dataset using the Keras functionality. The dataset consits of 70,000 images. The function `mnist.load_data()` downloads the dataset and return two pairs: one containing data and labels for training and one containing data and training for validation."
      ]
    },
    {
      "cell_type": "code",
      "metadata": {
        "id": "Y1Or-pG26oWs",
        "colab_type": "code",
        "colab": {
          "base_uri": "https://localhost:8080/",
          "height": 51
        },
        "outputId": "5738c6af-0a6d-469b-9fc6-dac7b9d736ae"
      },
      "source": [
        " (x_train, y_train), (x_test, y_test) = mnist.load_data()"
      ],
      "execution_count": 2,
      "outputs": [
        {
          "output_type": "stream",
          "text": [
            "Downloading data from https://s3.amazonaws.com/img-datasets/mnist.npz\n",
            "11493376/11490434 [==============================] - 1s 0us/step\n"
          ],
          "name": "stdout"
        }
      ]
    },
    {
      "cell_type": "code",
      "metadata": {
        "id": "SYJR3OqU9r8X",
        "colab_type": "code",
        "colab": {}
      },
      "source": [
        "# input image dimensions 28x28 pixel images. \n",
        "img_rows, img_cols = 28, 28\n",
        "\n",
        "x_train = x_train.reshape(x_train.shape[0], img_rows, img_cols, 1)\n",
        "x_test = x_test.reshape(x_test.shape[0], img_rows, img_cols, 1)\n",
        "\n",
        "# one-hot encode the labels\n",
        "# convert class vectors to binary class matrices\n",
        "num_classes=10\n",
        "y_train = np_utils.to_categorical(y_train, num_classes)\n",
        "y_test = np_utils.to_categorical(y_test, num_classes)"
      ],
      "execution_count": 3,
      "outputs": []
    },
    {
      "cell_type": "markdown",
      "metadata": {
        "id": "3FFlDMNSBf6J",
        "colab_type": "text"
      },
      "source": [
        "We could explore the dataset by plotting some of the images and the associated label to it. Bare in mind this label should be the ground truth for each of the considered images. "
      ]
    },
    {
      "cell_type": "code",
      "metadata": {
        "colab_type": "code",
        "id": "0wUHs59JAgKi",
        "colab": {
          "base_uri": "https://localhost:8080/",
          "height": 282
        },
        "outputId": "b5816732-2df1-45d3-a01d-d7d076912d55"
      },
      "source": [
        "\n",
        "index = 42\n",
        "plt.imshow(image.array_to_img(x_train[index]))\n",
        "print(y_train[index])"
      ],
      "execution_count": 4,
      "outputs": [
        {
          "output_type": "stream",
          "text": [
            "[0. 0. 0. 0. 0. 0. 0. 1. 0. 0.]\n"
          ],
          "name": "stdout"
        },
        {
          "output_type": "display_data",
          "data": {
            "image/png": "[encoded data removed]",
            "text/plain": [
              "<Figure size 432x288 with 1 Axes>"
            ]
          },
          "metadata": {
            "tags": [],
            "needs_background": "light"
          }
        }
      ]
    },
    {
      "cell_type": "markdown",
      "metadata": {
        "id": "PcL5kwllB32F",
        "colab_type": "text"
      },
      "source": [
        "## Building the LeNet Architecture"
      ]
    },
    {
      "cell_type": "code",
      "metadata": {
        "id": "7AB5Mml3yxxh",
        "colab_type": "code",
        "colab": {}
      },
      "source": [
        "model = Sequential()"
      ],
      "execution_count": 5,
      "outputs": []
    },
    {
      "cell_type": "markdown",
      "metadata": {
        "id": "OZ9HcBZ41HiV",
        "colab_type": "text"
      },
      "source": [
        "## Convolutional Part\n",
        "The convolutional part of the LeNet architecture interleaves convolutional layers and pooling layers. We can describe this part as follows:\n",
        "\n",
        "\n",
        "1.   Convolutional layer of depth 6 with filters 5x5\n",
        "2.   Pooling layer using the max operation for elements of size 2x2\n",
        "3.   Convolutional layer of depth 16 with filters 5x5\n",
        "4.   Pooling layer using the max operation for elements of size 2x2\n",
        "5.   Convolutional layer of depth 120 with filters 5x5\n",
        "\n",
        "Lets add all these layers using the keras interface. Convolutional layers can be contructed with the keras function ```Conv2D()``` and Pooling layers using the average operation ```AveragePooling2D()``` or the max operation ```MaxPooling2D()```. \n",
        "\n",
        "\n",
        "\n"
      ]
    },
    {
      "cell_type": "code",
      "metadata": {
        "id": "J88PkBayy3XR",
        "colab_type": "code",
        "colab": {}
      },
      "source": [
        "# First Convolutional Layer (depth = 6 and filter size = 5x5)\n",
        "model.add(Conv2D(filters=6, kernel_size=5, strides=1, activation='tanh', input_shape = (28,28,1), padding='same'))\n",
        "# First Pooling layer\n",
        "model.add(MaxPooling2D(pool_size=2,strides=2, padding='valid'))\n",
        "# Second Convolutional Layer (depth = 16 filter size = 5x5)\n",
        "model.add(Conv2D(filters=16,kernel_size=5,strides=1,activation='tanh',padding='valid'))\n",
        "# Second Pooling layer\n",
        "model.add(MaxPooling2D(pool_size=2,strides=2,padding='valid'))\n",
        "# Third Convolutional Layer (depth = 120 and filter size= 5x5)\n",
        "model.add(Conv2D(filters=120,kernel_size=5,strides=1,activation='tanh',padding='valid'))"
      ],
      "execution_count": 6,
      "outputs": []
    },
    {
      "cell_type": "markdown",
      "metadata": {
        "id": "pMax_3rLBmwG",
        "colab_type": "text"
      },
      "source": [
        "The output of the convolutional part is a set of feature maps (i.e., the convoluted images resulting of convoluting the filters and images or feature maps from previous layers). These images are matrices of ```w``` channels. These matrices form the input for the upcoming fully connected layer. As the input of a NN is vector, the feature maps are flattened into a vector. The function ```Flatten()``` is in charge of this. "
      ]
    },
    {
      "cell_type": "code",
      "metadata": {
        "id": "xfQA_uEr0iyz",
        "colab_type": "code",
        "colab": {}
      },
      "source": [
        "# Next layer is a fully conneted NN, so we need flattering the output of the previous layer\n",
        "model.add(Flatten())"
      ],
      "execution_count": 7,
      "outputs": []
    },
    {
      "cell_type": "markdown",
      "metadata": {
        "id": "kuAJnKzsCR9t",
        "colab_type": "text"
      },
      "source": [
        "Creating two layers of fully connected networks. "
      ]
    },
    {
      "cell_type": "code",
      "metadata": {
        "id": "h_Kv4C0I1UBN",
        "colab_type": "code",
        "colab": {}
      },
      "source": [
        "# First Layer of the fully connected neural network for classification\n",
        "model.add(Dense(units=84, activation='tanh'))\n",
        "# Secon layer of the fully connected neurla network (the output of the whole network)\n",
        "model.add(Dense(units=10,activation='softmax'))"
      ],
      "execution_count": 8,
      "outputs": []
    },
    {
      "cell_type": "markdown",
      "metadata": {
        "id": "fuurf7JyC1Pg",
        "colab_type": "text"
      },
      "source": [
        "In Keras, the method ```sumary()``` of the model shows the output shape and number of parameters of each and every layer, as well as the whole network. "
      ]
    },
    {
      "cell_type": "code",
      "metadata": {
        "id": "iYw1D3mT1IfC",
        "colab_type": "code",
        "colab": {}
      },
      "source": [
        "#model.summary()"
      ],
      "execution_count": 9,
      "outputs": []
    },
    {
      "cell_type": "markdown",
      "metadata": {
        "id": "K3s5CVTyDM-l",
        "colab_type": "text"
      },
      "source": [
        "Once the model has been created, we need to choose an optimizer in charge of minimizing the loss function and configure the model with an optimizer and a loss function. In this example, we are going to choose the Stochastic Gradient Descent and the categorical cross entropy loss function. "
      ]
    },
    {
      "cell_type": "code",
      "metadata": {
        "id": "qM6Kv2I04K1E",
        "colab_type": "code",
        "colab": {}
      },
      "source": [
        "opt = SGD()\n",
        "model.compile(loss='categorical_crossentropy',optimizer=opt,metrics=['accuracy'])"
      ],
      "execution_count": 10,
      "outputs": []
    },
    {
      "cell_type": "markdown",
      "metadata": {
        "id": "UA3U0LLPEEHh",
        "colab_type": "text"
      },
      "source": [
        "After all the previous steps, we are already at the point where our model can be trained. For this, we will use the ```fit()``` function in Keras. This function requires to provide the training data as wellas the validation dataset. "
      ]
    },
    {
      "cell_type": "code",
      "metadata": {
        "id": "fyNZGXxd1OmR",
        "colab_type": "code",
        "colab": {
          "base_uri": "https://localhost:8080/",
          "height": 714
        },
        "outputId": "9020ff17-b984-4f12-efba-3e83d77eb947"
      },
      "source": [
        "hist = model.fit(x_train, y_train, batch_size=32, epochs=20, validation_data=(x_test, y_test), verbose=2, shuffle=True)\n"
      ],
      "execution_count": 11,
      "outputs": [
        {
          "output_type": "stream",
          "text": [
            "Train on 60000 samples, validate on 10000 samples\n",
            "Epoch 1/20\n",
            " - 13s - loss: 0.3733 - accuracy: 0.9087 - val_loss: 0.1525 - val_accuracy: 0.9581\n",
            "Epoch 2/20\n",
            " - 7s - loss: 0.1300 - accuracy: 0.9628 - val_loss: 0.1035 - val_accuracy: 0.9698\n",
            "Epoch 3/20\n",
            " - 7s - loss: 0.1026 - accuracy: 0.9700 - val_loss: 0.0833 - val_accuracy: 0.9743\n",
            "Epoch 4/20\n",
            " - 7s - loss: 0.0853 - accuracy: 0.9749 - val_loss: 0.0741 - val_accuracy: 0.9771\n",
            "Epoch 5/20\n",
            " - 7s - loss: 0.0748 - accuracy: 0.9776 - val_loss: 0.0702 - val_accuracy: 0.9793\n",
            "Epoch 6/20\n",
            " - 7s - loss: 0.0669 - accuracy: 0.9799 - val_loss: 0.0599 - val_accuracy: 0.9806\n",
            "Epoch 7/20\n",
            " - 7s - loss: 0.0613 - accuracy: 0.9818 - val_loss: 0.0567 - val_accuracy: 0.9823\n",
            "Epoch 8/20\n",
            " - 7s - loss: 0.0577 - accuracy: 0.9826 - val_loss: 0.0538 - val_accuracy: 0.9825\n",
            "Epoch 9/20\n",
            " - 7s - loss: 0.0520 - accuracy: 0.9844 - val_loss: 0.0507 - val_accuracy: 0.9842\n",
            "Epoch 10/20\n",
            " - 7s - loss: 0.0476 - accuracy: 0.9855 - val_loss: 0.0519 - val_accuracy: 0.9837\n",
            "Epoch 11/20\n",
            " - 7s - loss: 0.0457 - accuracy: 0.9865 - val_loss: 0.0478 - val_accuracy: 0.9849\n",
            "Epoch 12/20\n",
            " - 7s - loss: 0.0436 - accuracy: 0.9872 - val_loss: 0.0458 - val_accuracy: 0.9858\n",
            "Epoch 13/20\n",
            " - 7s - loss: 0.0406 - accuracy: 0.9878 - val_loss: 0.0445 - val_accuracy: 0.9859\n",
            "Epoch 14/20\n",
            " - 7s - loss: 0.0379 - accuracy: 0.9889 - val_loss: 0.0467 - val_accuracy: 0.9850\n",
            "Epoch 15/20\n",
            " - 7s - loss: 0.0358 - accuracy: 0.9895 - val_loss: 0.0417 - val_accuracy: 0.9872\n",
            "Epoch 16/20\n",
            " - 7s - loss: 0.0347 - accuracy: 0.9896 - val_loss: 0.0479 - val_accuracy: 0.9849\n",
            "Epoch 17/20\n",
            " - 7s - loss: 0.0350 - accuracy: 0.9893 - val_loss: 0.0461 - val_accuracy: 0.9858\n",
            "Epoch 18/20\n",
            " - 7s - loss: 0.0306 - accuracy: 0.9910 - val_loss: 0.0399 - val_accuracy: 0.9873\n",
            "Epoch 19/20\n",
            " - 7s - loss: 0.0288 - accuracy: 0.9917 - val_loss: 0.0406 - val_accuracy: 0.9869\n",
            "Epoch 20/20\n",
            " - 7s - loss: 0.0300 - accuracy: 0.9911 - val_loss: 0.0400 - val_accuracy: 0.9877\n"
          ],
          "name": "stdout"
        }
      ]
    },
    {
      "cell_type": "markdown",
      "metadata": {
        "id": "9rY0mA8MFR9m",
        "colab_type": "text"
      },
      "source": [
        "## Analysing the Results\n",
        "Let's observe what happens with the accuracy and the loss on the training as well as the validation sets. "
      ]
    },
    {
      "cell_type": "code",
      "metadata": {
        "id": "5pTEHwmRqOCW",
        "colab_type": "code",
        "colab": {
          "base_uri": "https://localhost:8080/",
          "height": 545
        },
        "outputId": "dccfbc3b-bb63-44bf-c6ff-b3fa59502e09"
      },
      "source": [
        "# Obtaining information from the history \n",
        "acc = hist.history['accuracy']\n",
        "val_acc = hist.history['val_accuracy']\n",
        "loss = hist.history['loss']\n",
        "val_loss = hist.history['val_loss']\n",
        "\n",
        "# Plotting information\n",
        "epochs = range(1, len(acc)+ 1)\n",
        "plt.plot(epochs, acc, 'bo', label='Training accuracy')\n",
        "plt.plot(epochs, val_acc, 'b', label='Validation accuracy')\n",
        "plt.title('Training and validation accuracy')\n",
        "plt.legend()\n",
        "\n",
        "plt.figure()\n",
        "\n",
        "\n",
        "plt.plot(epochs, loss, 'bo', label='Training loss')\n",
        "plt.plot(epochs, val_loss, 'b', label='Validation loss')\n",
        "plt.title('Training and validation loss')\n",
        "plt.legend()\n",
        "plt.show()\n"
      ],
      "execution_count": 18,
      "outputs": [
        {
          "output_type": "display_data",
          "data": {
            "image/png": "[encoded data removed]",
            "text/plain": [
              "<Figure size 432x288 with 1 Axes>"
            ]
          },
          "metadata": {
            "tags": [],
            "needs_background": "light"
          }
        },
        {
          "output_type": "display_data",
          "data": {
            "image/png": "[encoded data removed]",
            "text/plain": [
              "<Figure size 432x288 with 1 Axes>"
            ]
          },
          "metadata": {
            "tags": [],
            "needs_background": "light"
          }
        }
      ]
    },
    {
      "cell_type": "markdown",
      "metadata": {
        "id": "HhMjia70FxZv",
        "colab_type": "text"
      },
      "source": [
        "## Using the network to predict unseen images"
      ]
    },
    {
      "cell_type": "code",
      "metadata": {
        "id": "EZFuLpicsfjR",
        "colab_type": "code",
        "colab": {
          "base_uri": "https://localhost:8080/",
          "height": 282
        },
        "outputId": "1d595f10-931b-40de-f2f2-51ab27e29823"
      },
      "source": [
        "from keras.preprocessing import image\n",
        "test_index = 126\n",
        "plt.imshow(image.array_to_img(x_test[test_index]))\n",
        "test_score = model.predict(x_test[test_index:test_index+1])\n",
        "prediction = tf.argmax(test_score[0])\n",
        "print(prediction)"
      ],
      "execution_count": 21,
      "outputs": [
        {
          "output_type": "stream",
          "text": [
            "tf.Tensor(0, shape=(), dtype=int64)\n"
          ],
          "name": "stdout"
        },
        {
          "output_type": "display_data",
          "data": {
            "image/png": "[encoded data removed]",
            "text/plain": [
              "<Figure size 432x288 with 1 Axes>"
            ]
          },
          "metadata": {
            "tags": [],
            "needs_background": "light"
          }
        }
      ]
    }
  ]
}